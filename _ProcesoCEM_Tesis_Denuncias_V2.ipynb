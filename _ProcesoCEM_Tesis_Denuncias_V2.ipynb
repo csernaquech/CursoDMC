{
  "nbformat": 4,
  "nbformat_minor": 0,
  "metadata": {
    "colab": {
      "private_outputs": true,
      "provenance": [],
      "include_colab_link": true
    },
    "kernelspec": {
      "name": "python3",
      "display_name": "Python 3"
    },
    "language_info": {
      "name": "python"
    }
  },
  "cells": [
    {
      "cell_type": "markdown",
      "metadata": {
        "id": "view-in-github",
        "colab_type": "text"
      },
      "source": [
        "<a href=\"https://colab.research.google.com/github/csernaquech/CursoDMC/blob/main/_ProcesoCEM_Tesis_Denuncias_V2.ipynb\" target=\"_parent\"><img src=\"https://colab.research.google.com/assets/colab-badge.svg\" alt=\"Open In Colab\"/></a>"
      ]
    },
    {
      "cell_type": "code",
      "execution_count": null,
      "metadata": {
        "id": "hsGjxk50ahZC"
      },
      "outputs": [],
      "source": [
        "import pandas as pd\n",
        "import random\n",
        "import math\n",
        "import numpy as np\n",
        "\n",
        "dfv = pd.read_csv('RegistrosTentativa-V2.csv',delimiter=';',encoding='ISO-8859-1')\n",
        "\n",
        "\n"
      ]
    },
    {
      "cell_type": "code",
      "source": [
        "\n",
        "dfv.columns.tolist()"
      ],
      "metadata": {
        "id": "oEzHqLKjbYCb"
      },
      "execution_count": null,
      "outputs": []
    },
    {
      "cell_type": "code",
      "source": [
        "dfnew = pd.DataFrame(columns=[\n",
        " 'ANIO',\n",
        " 'DEPARTAMENTO',\n",
        " 'PROVINCIA',\n",
        " 'DISTRITO',\n",
        " 'CEM',\n",
        " 'CASOS',\n",
        " 'RELAC_AGRESOR',\n",
        " 'EDAD'\n",
        " ])\n",
        "\n",
        "DfEdad = pd.DataFrame(columns=[\n",
        " 'rangoIni',\n",
        " 'rangoFin',\n",
        " 'valorEdad'\n",
        " ])\n",
        "\n",
        "DfRelacion = pd.DataFrame(columns=[\n",
        " 'Relacion',\n",
        " 'valor'\n",
        " ])\n",
        "\n",
        "var_relac = \"\";"
      ],
      "metadata": {
        "id": "xkjLvx10ct3r"
      },
      "execution_count": null,
      "outputs": []
    },
    {
      "cell_type": "code",
      "source": [
        "lectorRo = 1\n",
        "\n",
        "for indice, fila in dfv.iterrows():\n",
        "\n",
        " # if fila['CASOS'] == 7:\n",
        "\n",
        "            # Relacion\n",
        "            DfRelacion = DfRelacion.drop(DfRelacion.index) # Elimnina todas las filas\n",
        "\n",
        "            nueva_filaRela = pd.DataFrame({'Relacion':['Pareja'], 'valor': fila['PAREJA']})\n",
        "            DfRelacion = pd.concat([DfRelacion, nueva_filaRela], ignore_index=True)\n",
        "\n",
        "            nueva_filaRela = pd.DataFrame({ 'Relacion':['Expareja'] , 'valor': fila['EX PAREJA'] })\n",
        "            DfRelacion = pd.concat([DfRelacion, nueva_filaRela], ignore_index=True)\n",
        "\n",
        "            nueva_filaRela = pd.DataFrame({ 'Relacion':['Familiar'] , 'valor': fila['FAMILIAR'] })\n",
        "            DfRelacion = pd.concat([DfRelacion, nueva_filaRela], ignore_index=True)\n",
        "\n",
        "            nueva_filaRela = pd.DataFrame({ 'Relacion':['Otros'] , 'valor': fila['OTROS'] })\n",
        "            DfRelacion = pd.concat([DfRelacion, nueva_filaRela], ignore_index=True)\n",
        "\n",
        "            #nueva_filaRela = pd.DataFrame({ 'Relacion':['Desconocido'], 'valor': fila['DESCONOCIDO'] })\n",
        "            #DfRelacion = pd.concat([DfRelacion, nueva_filaRela], ignore_index=True)\n",
        "\n",
        "            DfRelacion = DfRelacion.sort_values(by='valor', ascending=False, ignore_index=True)\n",
        "\n",
        "            #print(DfRelacion)\n",
        "\n",
        "            #Edades\n",
        "            DfEdad = DfEdad.drop(DfEdad.index) # Elimnina todas las filas\n",
        "\n",
        "            nueva_filaEdad = pd.DataFrame({'rangoIni': [12], 'rangoFin': [17], 'valorEdad': fila['12_17']})\n",
        "            DfEdad = pd.concat([DfEdad, nueva_filaEdad], ignore_index=True)\n",
        "\n",
        "            nueva_filaEdad = pd.DataFrame({'rangoIni': [18], 'rangoFin': [29], 'valorEdad': fila['18_29']})\n",
        "            DfEdad = pd.concat([DfEdad, nueva_filaEdad], ignore_index=True)\n",
        "\n",
        "            nueva_filaEdad = pd.DataFrame({'rangoIni': [30], 'rangoFin': [59], 'valorEdad': fila['30_59']})\n",
        "            DfEdad = pd.concat([DfEdad, nueva_filaEdad], ignore_index=True)\n",
        "\n",
        "            nueva_filaEdad = pd.DataFrame({'rangoIni': [60], 'rangoFin': [85], 'valorEdad': fila['60_MçS']})\n",
        "            DfEdad = pd.concat([DfEdad, nueva_filaEdad], ignore_index=True)\n",
        "\n",
        "            DfEdad.sort_values(by='valorEdad', ascending=False, ignore_index=True)\n",
        "\n",
        "            for indice2, fila2 in DfEdad.iterrows():\n",
        "\n",
        "                if   indice2 == 1: var_relac = DfRelacion.Relacion[1]\n",
        "                elif indice2 == 2: var_relac = DfRelacion.Relacion[2]\n",
        "                elif indice2 == 3: var_relac = DfRelacion.Relacion[3]\n",
        "                elif indice2 == 4: var_relac = DfRelacion.Relacion[4]\n",
        "\n",
        "                for i in range(1, fila2['valorEdad'] + 1 ):\n",
        "\n",
        "                    nueva_fila = {'ANIO':             fila['ANIO'],\n",
        "                                  'DEPARTAMENTO':     fila['DEPARTAMENTO'],\n",
        "                                  'PROVINCIA':        fila['PROVINCIA'],\n",
        "                                  'DISTRITO':         fila['DISTRITO'],\n",
        "                                  'CEM':              fila['CEM'],\n",
        "                                  'CASOS'         :   fila['CASOS'],\n",
        "                                  'RELAC_AGRESOR':    var_relac,\n",
        "                                  'EDAD':             random.randint( int(fila2['rangoIni']), int(fila2['rangoFin']) )\n",
        "                                  }\n",
        "                    dfnew = dfnew.append(nueva_fila, ignore_index=True)\n",
        "\n",
        "#dfnew\n",
        "dfnew.to_csv('dfnew.csv', index=False, encoding='ISO-8859-1')"
      ],
      "metadata": {
        "id": "Cx7RDquTdGqC"
      },
      "execution_count": null,
      "outputs": []
    }
  ]
}