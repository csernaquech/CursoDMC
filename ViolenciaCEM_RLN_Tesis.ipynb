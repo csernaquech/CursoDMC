{
  "nbformat": 4,
  "nbformat_minor": 0,
  "metadata": {
    "colab": {
      "private_outputs": true,
      "provenance": [],
      "authorship_tag": "ABX9TyM+xcFQtIs98CYAmb6HnY0t",
      "include_colab_link": true
    },
    "kernelspec": {
      "name": "python3",
      "display_name": "Python 3"
    },
    "language_info": {
      "name": "python"
    }
  },
  "cells": [
    {
      "cell_type": "markdown",
      "metadata": {
        "id": "view-in-github",
        "colab_type": "text"
      },
      "source": [
        "<a href=\"https://colab.research.google.com/github/csernaquech/CursoDMC/blob/main/ViolenciaCEM_RLN_Tesis.ipynb\" target=\"_parent\"><img src=\"https://colab.research.google.com/assets/colab-badge.svg\" alt=\"Open In Colab\"/></a>"
      ]
    },
    {
      "cell_type": "code",
      "execution_count": null,
      "metadata": {
        "id": "U257yAe835Ns"
      },
      "outputs": [],
      "source": [
        "import pandas as pd\n",
        "import random\n",
        "import math\n",
        "\n",
        "# Configuración de tamaño de gráficos matplotlib\n",
        "import matplotlib.pyplot as plt\n",
        "\n",
        "# Cargar seaborn\n",
        "import seaborn as sns\n",
        "\n",
        "# Configurar el estilo de Seaborn\n",
        "sns.set(style=\"whitegrid\")\n",
        "\n",
        "# os proporciona funciones para interactuar con el sistema operativo y realizar operaciones relacionadas con archivos y directorios.\n",
        "import os\n",
        "\n",
        "dfv = pd.read_csv('denuncias_procesadas_colab_compleado.csv',delimiter=';',encoding='ISO-8859-1')\n",
        "\n"
      ]
    },
    {
      "cell_type": "code",
      "source": [
        "dfv.describe()"
      ],
      "metadata": {
        "id": "04a-zSAg4rmz"
      },
      "execution_count": null,
      "outputs": []
    },
    {
      "cell_type": "code",
      "source": [
        "# Creando carpetas\n",
        "# nombre_carpeta = 'linear_regression'\n",
        "# os.makedirs(nombre_carpeta)\n",
        "# os.makedirs(nombre_carpeta + '/data')\n",
        "# os.makedirs(nombre_carpeta + '/plots')\n",
        "# os.makedirs(nombre_carpeta + '/results')"
      ],
      "metadata": {
        "id": "9OCF6wLgk9IM"
      },
      "execution_count": null,
      "outputs": []
    },
    {
      "cell_type": "code",
      "source": [],
      "metadata": {
        "id": "pcdEmj-HcrFs"
      },
      "execution_count": null,
      "outputs": []
    },
    {
      "cell_type": "code",
      "source": [
        "target = 'FEMINICIDIO'"
      ],
      "metadata": {
        "id": "u53OgolTOtdS"
      },
      "execution_count": null,
      "outputs": []
    },
    {
      "cell_type": "code",
      "source": [
        "variables_numericas = dfv.select_dtypes(include=['number']).columns.tolist()\n",
        "variables_numericas\n"
      ],
      "metadata": {
        "id": "2d938rLmKq57"
      },
      "execution_count": null,
      "outputs": []
    },
    {
      "cell_type": "code",
      "source": [
        "variables_numericas.remove('FEMENICIDIO')\n",
        "variables_numericas"
      ],
      "metadata": {
        "id": "A4yEvW6ZNAJF"
      },
      "execution_count": null,
      "outputs": []
    },
    {
      "cell_type": "code",
      "source": [
        "# Identificar las variables categóricas utilizando el atributo dtypes\n",
        "variables_categoricas = dfv.select_dtypes(include=['object']).columns.tolist()\n",
        "variables_categoricas"
      ],
      "metadata": {
        "id": "2eeH5WAKNWz6"
      },
      "execution_count": null,
      "outputs": []
    },
    {
      "cell_type": "code",
      "source": [
        "# Guardando variables en una tabla\n",
        "dataResume = pd.DataFrame({'feature' : variables_numericas, 'type' : 'numeric'})\n",
        "dataResume = dataResume.append(pd.DataFrame({'feature' : [target], 'type' : 'target'}))\n",
        "dataResume.to_csv('datanumericaViolencia.csv', index = 0)\n",
        "\n"
      ],
      "metadata": {
        "id": "m4-m13aQOf9A"
      },
      "execution_count": null,
      "outputs": []
    },
    {
      "cell_type": "code",
      "source": [
        "pip install seaborn"
      ],
      "metadata": {
        "id": "lO74vyBScMIZ"
      },
      "execution_count": null,
      "outputs": []
    },
    {
      "cell_type": "code",
      "source": [
        "plt.figure(figsize=(4, 6))  # Tamaño del gráfico (ancho x alto en pulgadas)\n",
        "\n",
        "# Gráfico de distribución\n",
        "sns.displot(dfv['PONDER_FICHA_RIESGO'], height=6, aspect=3, kde=True)\n",
        "plt.title(\"Distribución del Precio de los inmuebles\", fontsize=12)  # Título del gráfico\n",
        "plt.xlabel(\"Precio\", fontsize=10)  # Nombre del eje x\n",
        "plt.ylabel(\"Frecuencia\", fontsize=10)  # Nombre del eje y\n",
        "plt.xticks(range(0, 40, 1))\n",
        "\n",
        "# #plt.savefig(\"dist_MEDV.png\")  # Guarda el gráfico como un archivo PNG\n",
        "# plt.show()\n",
        "\n",
        "\n"
      ],
      "metadata": {
        "id": "kVMOAizRQMgw"
      },
      "execution_count": null,
      "outputs": []
    },
    {
      "cell_type": "code",
      "source": [
        "plt.figure(figsize=(4, 6))  # Tamaño del gráfico (ancho x alto en pulgadas)\n",
        "\n",
        "for col in variables_numericas:\n",
        "  # Gráfico de distribución\n",
        "  sns.displot(dfv[col], height=6, aspect=3, kde=True)\n",
        "  plt.title(\"Distribución de \" + col, fontsize=12)  # Título del gráfico\n",
        "  plt.xlabel(col, fontsize=10)  # Nombre del eje x\n",
        "  plt.ylabel(\"Frecuencia\", fontsize=10)  # Nombre del eje y\n",
        "  plt.savefig(\"linear_regression/plots/dist_\" + col + \".png\")  # Guarda el gráfico como un archivo PNG\n",
        "  plt.close()"
      ],
      "metadata": {
        "id": "2B1QC8KilKrB"
      },
      "execution_count": null,
      "outputs": []
    },
    {
      "cell_type": "code",
      "source": [
        "#ENTRENANDO AL MODELO\n",
        "# Muestreo\n",
        "#La función train_test_split de scikit-learn se utiliza para dividir un conjunto de datos en subconjuntos de train y test.\n",
        "from sklearn.model_selection import train_test_split\n",
        "\n",
        "train, test = train_test_split(dfv, # Base de datos\n",
        "                               train_size = 0.7, # Especificar el tamaño de train/test\n",
        "                               random_state = 123) # Semilla aleatoria\n",
        "\n",
        "print(f\"Tamaño del total de datos: {len(dfv)}\")\n",
        "print(f\"Tamaño de train: {len(train)}\")\n",
        "print(f\"Tamaño de test: {len(test)}\")"
      ],
      "metadata": {
        "id": "XzN8UZQtT0TR"
      },
      "execution_count": null,
      "outputs": []
    },
    {
      "cell_type": "code",
      "source": [
        "# Crear scatterplot\n",
        "plt.figure(figsize=(6, 4))\n",
        "sns.regplot(x = train.FEMENICIDIO, y = train.VICT_EDAD, scatter_kws={\"alpha\": 0.5})\n",
        "\n",
        "# Personalizar el título y los nombres de los ejes\n",
        "plt.title(f\"Scatterplot NOX vs Precio del inmueble\")\n",
        "plt.xlabel(\"Variable NOX\")\n",
        "plt.ylabel(\"Precio del inmueble\")\n",
        "\n",
        "# Mostrar el gráfico\n",
        "plt.show()"
      ],
      "metadata": {
        "id": "1cvUSPjBVCLI"
      },
      "execution_count": null,
      "outputs": []
    },
    {
      "cell_type": "code",
      "source": [
        "pdResume = train.describe().transpose()\n",
        "pdResume.reset_index(inplace = True)\n",
        "pdResume.rename(columns = {'index' : 'feature',\n",
        "                           '25%' : 'Q1',\n",
        "                           '50%' : 'median',\n",
        "                           '75%' : 'Q3'}, inplace = True)\n",
        "\n",
        "#pdResume\n",
        "\n",
        "pdResume[['missing_rate']] = 1 - pdResume[['count']]/train.shape[0]\n",
        "pdResume.sort_values(by = 'missing_rate', ascending = False, inplace = True)"
      ],
      "metadata": {
        "id": "O21YOV8QWJc8"
      },
      "execution_count": null,
      "outputs": []
    },
    {
      "cell_type": "code",
      "source": [
        "correlations = train.corr()[['FEMENICIDIO']]\n",
        "correlations.reset_index(inplace = True)\n",
        "correlations.rename(columns = {'index' : 'feature',\n",
        "                               'FEMENICIDIO' : 'corr'}, inplace = True)\n",
        "\n",
        "\n"
      ],
      "metadata": {
        "id": "ju1YNt0_X6sH"
      },
      "execution_count": null,
      "outputs": []
    },
    {
      "cell_type": "code",
      "source": [
        "# Cruzando correlaciones con la tabla de resumen original\n",
        "univariate = pd.merge(pdResume, correlations, on = 'feature')\n",
        "univariate.head()"
      ],
      "metadata": {
        "id": "8R_sh9MuYpVt"
      },
      "execution_count": null,
      "outputs": []
    },
    {
      "cell_type": "code",
      "source": [
        "# Creamos la columna correlacion absoluta\n",
        "univariate['abs_corr'] = univariate['corr'].apply(lambda x: abs(x))\n",
        "univariate.sort_values(by = 'abs_corr', ascending = False, inplace=True)\n",
        "univariate.head()"
      ],
      "metadata": {
        "id": "nkINHDLacgbB"
      },
      "execution_count": null,
      "outputs": []
    },
    {
      "cell_type": "code",
      "source": [
        "# Guardando resultados\n",
        "univariate.to_csv('linear_regression/results/univariate_assesment.csv', index = 0)"
      ],
      "metadata": {
        "id": "b7IAQ68ic23i"
      },
      "execution_count": null,
      "outputs": []
    },
    {
      "cell_type": "code",
      "source": [],
      "metadata": {
        "id": "tB8cIWkYfSbh"
      },
      "execution_count": null,
      "outputs": []
    },
    {
      "cell_type": "code",
      "source": [
        "preselection = univariate.loc[(univariate.abs_corr >= 0.2) & (univariate.missing_rate <= 0.8)]\n",
        "print(f\"{len(preselection)} variables de {len(univariate)} pasan el proceso de pre-selección\")\n",
        "\n",
        "\n",
        "preselection"
      ],
      "metadata": {
        "id": "UVJRnDeKgzPo"
      },
      "execution_count": null,
      "outputs": []
    },
    {
      "cell_type": "code",
      "source": [
        "preselection = univariate.loc[(univariate.abs_corr >= 0.2) & (univariate.missing_rate <= 0.8)]\n",
        "print(f\"{len(preselection)} variables de {len(univariate)} pasan el proceso de pre-selección\")"
      ],
      "metadata": {
        "id": "4AHBxbshfTS-"
      },
      "execution_count": null,
      "outputs": []
    },
    {
      "cell_type": "code",
      "source": [
        "#Leyendo tabla resumen\n",
        "univariate_II = pd.read_csv('linear_regression/results/univariate_assesment.csv')\n",
        "univariate_II.head()"
      ],
      "metadata": {
        "id": "vHU3vFSkfgpi"
      },
      "execution_count": null,
      "outputs": []
    },
    {
      "cell_type": "code",
      "source": [
        "##4.1. Tratamiento de outliers\n",
        "\n",
        "\n",
        "univariate_II['ric']     = univariate_II['Q3'] - univariate_II['Q1']\n",
        "univariate_II['min_ric'] = univariate_II['Q1'] - 1.5*univariate_II['ric']\n",
        "univariate_II['max_ric'] = univariate_II['Q3'] + 1.5*univariate_II['ric']\n",
        "\n",
        "univariate_II.head()"
      ],
      "metadata": {
        "id": "tgSm5_WAflrc"
      },
      "execution_count": null,
      "outputs": []
    },
    {
      "cell_type": "code",
      "source": [
        "# Tratamiento de outliers por RIC\n",
        "\n",
        "for col in preselection.feature.tolist():\n",
        "  desc = univariate_II.loc[univariate_II.feature == col]\n",
        "\n",
        "  lower_limit = desc.min_ric.values[0]\n",
        "  upper_limit = desc.max_ric.values[0]\n",
        "\n",
        "  train[col + '_tric'] = train[col].apply(lambda x: lower_limit if x <= lower_limit else\n",
        "                                                    upper_limit if x >= upper_limit else\n",
        "                                                    x)\n",
        "  test[col + '_tric']  = test[col].apply(lambda x: lower_limit if x <= lower_limit else\n",
        "                                                    upper_limit if x >= upper_limit else\n",
        "                                                    x)\n",
        "train.head()"
      ],
      "metadata": {
        "id": "5hr9BafngVWm"
      },
      "execution_count": null,
      "outputs": []
    },
    {
      "cell_type": "code",
      "source": [
        "#Revisemos los resultados\n",
        "\n",
        "# Crear figura y subplots\n",
        "fig, axes = plt.subplots(2, 1, figsize=(6, 4))\n",
        "\n",
        "ax1 = axes[0]\n",
        "sns.boxplot(data=train[['FEMENICIDIO']], orient=\"h\", ax=ax1)\n",
        "ax1.set_title('Variable Original')\n",
        "\n",
        "ax2 = axes[1]\n",
        "sns.boxplot(data=train[['FEMENICIDIO_tric']], orient=\"h\", ax=ax2)\n",
        "ax2.set_title('Variable Tratada')\n",
        "# Ajustar espaciado entre subplots\n",
        "plt.tight_layout()\n",
        "\n",
        "# Mostrar los gráficos\n",
        "plt.show()"
      ],
      "metadata": {
        "id": "VaTLKi-JhQ6V"
      },
      "execution_count": null,
      "outputs": []
    },
    {
      "cell_type": "code",
      "source": [
        "#4.2. Tratamiento de Missings\n",
        "# Variables hasta el momento\n",
        "actual_features = [x + '_tric' for x in preselection.feature.tolist()]\n",
        "\n",
        "# Tratamiento en train\n",
        "train[[x + '_imp' for x in actual_features]] = train[actual_features].fillna(train[actual_features].median())\n",
        "\n",
        "# Tratamiento en test\n",
        "test[[x + '_imp' for x in actual_features]] = test[actual_features].fillna(train[actual_features].median())\n"
      ],
      "metadata": {
        "id": "08V5CNepi8GU"
      },
      "execution_count": null,
      "outputs": []
    },
    {
      "cell_type": "code",
      "source": [
        "train[[x + '_imp' for x in actual_features]].head(30)\n"
      ],
      "metadata": {
        "id": "am8AuLtLjcQL"
      },
      "execution_count": null,
      "outputs": []
    },
    {
      "cell_type": "code",
      "source": [
        "#4.3. Reescalamiento de datos\n",
        "\n",
        "# Variables hasta el momento\n",
        "actual_features = [x + '_imp' for x in actual_features]\n",
        "\n",
        "\n"
      ],
      "metadata": {
        "id": "7g8aBjjukPUo"
      },
      "execution_count": null,
      "outputs": []
    },
    {
      "cell_type": "code",
      "source": [
        "actual_features\n",
        "\n",
        "# estandarizando las variables para mantener todas en una misma escala\n",
        "train[[x + '_std' for x in actual_features]] = (train[actual_features] - train[actual_features].mean())/train[actual_features].std()\n",
        "test[[x + '_std' for x in actual_features]] = (test[actual_features] - train[actual_features].mean())/train[actual_features].std()"
      ],
      "metadata": {
        "id": "V-cOJDlalTIs"
      },
      "execution_count": null,
      "outputs": []
    },
    {
      "cell_type": "code",
      "source": [
        "#5. Modelo de regresión Lineal\n",
        "#Regresión lineal por MCO\n",
        "[x for x in train.columns.tolist() if 'FEMENICIDIO' in x]\n",
        "\n"
      ],
      "metadata": {
        "id": "OuVaQkIMl_1e"
      },
      "execution_count": null,
      "outputs": []
    },
    {
      "cell_type": "code",
      "source": [
        "# Variables finalmente tratadas\n",
        "actual_features = [x + '_std' for x in actual_features]\n",
        "#actual_features.remove('FEMENICIDIO' + 'tric_imp_std')"
      ],
      "metadata": {
        "id": "-5n9F5Idmlxl"
      },
      "execution_count": null,
      "outputs": []
    },
    {
      "cell_type": "code",
      "source": [
        "actual_features"
      ],
      "metadata": {
        "id": "ovwu4abWmvoE"
      },
      "execution_count": null,
      "outputs": []
    }
  ]
}